{
 "cells": [
  {
   "cell_type": "code",
   "execution_count": 2,
   "metadata": {},
   "outputs": [],
   "source": [
    "import torch\n",
    "import numpy as np\n",
    "import pandas as pd\n",
    "import torch.nn as nn \n",
    "import torch.nn.functional as F\n",
    "from transformers import AutoTokenizer, AutoModel\n",
    "from utils.manager import Manager\n",
    "from utils.util import load_pickle, save_pickle"
   ]
  },
  {
   "cell_type": "code",
   "execution_count": 3,
   "metadata": {},
   "outputs": [
    {
     "name": "stderr",
     "output_type": "stream",
     "text": [
      "[2022-02-11 03:13:23,868] INFO (Manager) Hyper Parameters are:\n",
      "{'scale': 'demo', 'batch_size': 2, 'batch_size_encode': 2, 'dropout_p': 0.1, 'seed': 3407, 'dataloaders': ['train', 'dev', 'news', 'history'], 'his_size': 50, 'impr_size': 20, 'negative_num': 4, 'title_length': 32, 'abs_length': 64, 'plm': 'bert', 'enable_fields': ['title', 'abs'], 'enable_gate': 'weight', 'verbose': None, 'sequence_length': 96}\n",
      "\n",
      "[2022-02-11 03:13:23,872] INFO (MIND_Train) Loading Cache at MINDdemo_train\n",
      "[2022-02-11 03:13:25,412] INFO (MIND_Dev) Loading Cache at MINDdemo_dev\n",
      "[2022-02-11 03:13:26,751] INFO (MIND_News) Loading Cache at MINDdemo_dev\n"
     ]
    }
   ],
   "source": [
    "class config:\n",
    "    epochs = 10\n",
    "    scale = \"demo\"\n",
    "    mode = \"train\"\n",
    "    device = 0\n",
    "    batch_size = 2\n",
    "    batch_size_encode = 2\n",
    "    dropout_p = 0.1\n",
    "    seed = 3407\n",
    "    world_size = 1\n",
    "\n",
    "    data_root = \"../../../Data\"\n",
    "    cache_root = \"data/cache\"\n",
    "    dataloaders = [\"train\", \"dev\", \"news\", \"history\"]\n",
    "\n",
    "    his_size = 50\n",
    "    impr_size = 20\n",
    "    negative_num = 4\n",
    "\n",
    "    max_title_length = 64\n",
    "    max_abs_length = 256\n",
    "    title_length = 32\n",
    "    abs_length = 64\n",
    "\n",
    "    plm = \"bert\"\n",
    "\n",
    "    enable_fields = [\"title\", \"abs\"]\n",
    "    enable_gate = \"weight\"\n",
    "\n",
    "    rank = 0\n",
    "    verbose = None\n",
    "    distributed = False\n",
    "    debug = False\n",
    "\n",
    "manager = Manager(config, notebook=True)\n",
    "loaders = manager.prepare()"
   ]
  },
  {
   "cell_type": "code",
   "execution_count": 4,
   "metadata": {},
   "outputs": [],
   "source": [
    "t = AutoTokenizer.from_pretrained(manager.plm_dir)\n",
    "# m = AutoModel.from_pretrained(manager.plm_dir).to(0)"
   ]
  },
  {
   "cell_type": "code",
   "execution_count": 6,
   "metadata": {},
   "outputs": [],
   "source": [
    "loader_train = loaders[\"train\"]\n",
    "loader_dev = loaders[\"dev\"]\n",
    "loader_news = loaders[\"news\"]\n",
    "\n",
    "dataset_train = loader_train.dataset\n",
    "dataset_dev = loader_dev.dataset\n",
    "dataset_news = loader_news.dataset\n",
    "\n",
    "X1 = iter(loader_train)\n",
    "X2 = iter(loader_dev)\n",
    "X3 = iter(loader_news)\n",
    "x = next(X1)\n",
    "x2 = next(X2)\n",
    "x3 = next(X3)"
   ]
  },
  {
   "cell_type": "code",
   "execution_count": 7,
   "metadata": {},
   "outputs": [
    {
     "data": {
      "text/plain": [
       "[\"[CLS] what you need to know about the c8 corvette's new dual - clutch transmission [SEP] the new corvette has an eight - speed tremec dct. we weren't crazy about it in the pre - production c8 we drove, but engineers tell us the final version will be better. [SEP] [PAD] [PAD] [PAD] [PAD] [PAD] [PAD] [PAD] [PAD] [PAD] [PAD] [PAD] [PAD] [PAD] [PAD] [PAD] [PAD] [PAD] [PAD] [PAD] [PAD] [PAD] [PAD] [PAD] [PAD] [PAD] [PAD] [PAD] [PAD] [PAD] [PAD] [PAD] [PAD] [PAD] [PAD]\",\n",
       " '[CLS] halle berry shares photo of 6 - pack abs on instagram and her fans are freaking out [SEP] the 53 - year - old star worked hard for those washboard abs while training for her new movie, \" bruised. \" [SEP] [PAD] [PAD] [PAD] [PAD] [PAD] [PAD] [PAD] [PAD] [PAD] [PAD] [PAD] [PAD] [PAD] [PAD] [PAD] [PAD] [PAD] [PAD] [PAD] [PAD] [PAD] [PAD] [PAD] [PAD] [PAD] [PAD] [PAD] [PAD] [PAD] [PAD] [PAD] [PAD] [PAD] [PAD] [PAD] [PAD] [PAD] [PAD] [PAD] [PAD] [PAD] [PAD] [PAD] [PAD] [PAD] [PAD] [PAD] [PAD] [PAD] [PAD]',\n",
       " \"[CLS] usa today interview : nikki haley isn't running for president. that is, not yet. [SEP] interview : nikki haley just may be the only top trump official who has maintained good relations with the president and yet defined some distance. [SEP] [PAD] [PAD] [PAD] [PAD] [PAD] [PAD] [PAD] [PAD] [PAD] [PAD] [PAD] [PAD] [PAD] [PAD] [PAD] [PAD] [PAD] [PAD] [PAD] [PAD] [PAD] [PAD] [PAD] [PAD] [PAD] [PAD] [PAD] [PAD] [PAD] [PAD] [PAD] [PAD] [PAD] [PAD] [PAD] [PAD] [PAD] [PAD] [PAD] [PAD] [PAD] [PAD] [PAD] [PAD] [PAD] [PAD] [PAD] [PAD]\",\n",
       " '[CLS] big celebrity money moments of the last decade [SEP] from bankruptcy filings and huge paydays to reaching billionaire status, read up on the most fascinating money news involving the stars from 2010 to 2019. [SEP] [PAD] [PAD] [PAD] [PAD] [PAD] [PAD] [PAD] [PAD] [PAD] [PAD] [PAD] [PAD] [PAD] [PAD] [PAD] [PAD] [PAD] [PAD] [PAD] [PAD] [PAD] [PAD] [PAD] [PAD] [PAD] [PAD] [PAD] [PAD] [PAD] [PAD] [PAD] [PAD] [PAD] [PAD] [PAD] [PAD] [PAD] [PAD] [PAD] [PAD] [PAD] [PAD] [PAD] [PAD] [PAD] [PAD] [PAD] [PAD] [PAD] [PAD] [PAD] [PAD] [PAD] [PAD] [PAD]',\n",
       " '[CLS] charles rogers, former michigan state football, detroit lions star, dead at 38 [SEP] charles rogers, the former michigan state football star whom the detroit lions selected with the second overall pick in 2003 nfl draft, has died. [SEP] [PAD] [PAD] [PAD] [PAD] [PAD] [PAD] [PAD] [PAD] [PAD] [PAD] [PAD] [PAD] [PAD] [PAD] [PAD] [PAD] [PAD] [PAD] [PAD] [PAD] [PAD] [PAD] [PAD] [PAD] [PAD] [PAD] [PAD] [PAD] [PAD] [PAD] [PAD] [PAD] [PAD] [PAD] [PAD] [PAD] [PAD] [PAD] [PAD] [PAD] [PAD] [PAD] [PAD] [PAD] [PAD] [PAD] [PAD] [PAD] [PAD] [PAD] [PAD]']"
      ]
     },
     "execution_count": 7,
     "metadata": {},
     "output_type": "execute_result"
    }
   ],
   "source": [
    "t.batch_decode(x[\"cdd_token_id\"][0])"
   ]
  },
  {
   "cell_type": "code",
   "execution_count": 5,
   "metadata": {},
   "outputs": [
    {
     "name": "stdout",
     "output_type": "stream",
     "text": [
      "                a g\n",
      "[CLS]           1 0\n",
      "what            1 1\n",
      "you             1 1\n",
      "need            1 1\n",
      "to              1 1\n",
      "know            1 1\n",
      "about           1 1\n",
      "the             1 1\n",
      "c               1 1\n",
      "##8             1 1\n",
      "corvette        1 1\n",
      "'               1 1\n",
      "s               1 1\n",
      "new             1 1\n",
      "dual            1 1\n",
      "-               1 1\n",
      "clutch          1 1\n",
      "transmission    1 1\n",
      "[SEP]           1 0\n",
      "the             1 0\n",
      "new             1 0\n",
      "corvette        1 0\n",
      "has             1 1\n",
      "an              1 1\n",
      "eight           1 1\n",
      "-               1 0\n",
      "speed           1 1\n",
      "tre             1 1\n",
      "##me            1 1\n",
      "##c             1 1\n",
      "dc              1 1\n",
      "##t             1 1\n",
      ".               1 1\n",
      "we              1 1\n",
      "weren           1 1\n",
      "'               1 0\n",
      "t               1 1\n",
      "crazy           1 1\n",
      "about           1 0\n",
      "it              1 1\n",
      "in              1 1\n",
      "the             1 0\n",
      "pre             1 1\n",
      "-               1 0\n",
      "production      1 1\n",
      "c               1 0\n",
      "##8             1 0\n",
      "we              1 0\n",
      "drove           1 1\n",
      ",               1 1\n",
      "but             1 1\n",
      "engineers       1 1\n",
      "tell            1 1\n",
      "us              1 1\n",
      "the             1 0\n",
      "final           1 1\n",
      "version         1 1\n",
      "will            1 1\n",
      "be              1 1\n",
      "better          1 1\n",
      ".               1 0\n",
      "[SEP]           1 0\n",
      "[PAD]           0 0\n"
     ]
    }
   ],
   "source": [
    "# check gate mask\n",
    "index = (0, 0)\n",
    "cdd_token_id = x['cdd_token_id'][index]\n",
    "cdd_attn_mask = x[\"cdd_attn_mask\"][index]\n",
    "cdd_gate_mask = x[\"cdd_gate_mask\"][index]\n",
    "his_token_id = x[\"his_token_id\"][index]\n",
    "his_attn_mask = x[\"his_attn_mask\"][index]\n",
    "his_gate_mask = x[\"his_gate_mask\"][index]\n",
    "\n",
    "cdd_token = t.convert_ids_to_tokens(cdd_token_id)\n",
    "his_token = t.convert_ids_to_tokens(his_token_id)\n",
    "\n",
    "line = \"{:15} a g\".format(\" \"*15)\n",
    "print(line)\n",
    "for i in range(manager.sequence_length):\n",
    "    line = \"{:15} {} {}\".format(cdd_token[i], cdd_attn_mask[i], cdd_gate_mask[i])\n",
    "    print(line)\n",
    "    if cdd_token[i] == \"[PAD]\":\n",
    "        break"
   ]
  },
  {
   "cell_type": "code",
   "execution_count": 34,
   "metadata": {},
   "outputs": [
    {
     "name": "stdout",
     "output_type": "stream",
     "text": [
      "['U63949', 'U28675'] [1633, 526]\n",
      "['N33159', 'N29128', 'N55689', 'N59981', 'N47229']\n",
      "[\"sheriff's deputy charged with murder after man shot, killed a sheriff's deputy is in jail, charged with murder after a deadly shooting in athens, authorities said.\", \"flight attendants have a secret language you didn't know about here are some phrases only flight attendant use and what they actually mean.\", 'charles rogers, former michigan state football, detroit lions star, dead at 38 charles rogers, the former michigan state football star whom the detroit lions selected with the second overall pick in 2003 nfl draft, has died.', \"tamron hall talks leaving the today show, jokes about megyn kelly's reported multimillion payout tamron hall talks losing the today show\", 'these are the best harley - davidson motorcycles you can get for the cheap these are the best harleys to buy right now.']\n",
      "['N1150', 'N29177', 'N29898', 'N46392', 'N54772']\n",
      "['a texas mom is going to prison after putting her son through unnecessary medical procedures a dallas mother made her son go through unnecessary medical procedures throughout the first years of his life, court documents say.', \"miguel cervantes'wife reveals daughter, 3,'died in my arms'after entering hospice care miguel cervantes'wife reveals daughter'died in my arms'after hospice care\", 'basket - shaped building to become a luxury hotel in newark, ohio a seven - story building in the shape of a picnic basket - - complete with handles - - is set to be converted into a luxury hotel. the former longaberger co. headquarters is in newark, ohio.', 'body of missing alabama girl found ; 2 being charged investigators searching through garbage found the body of a 3 - year - old girl who was missing more than a week, and authorities are charging two people with murder, police said tuesday.', 'woman doused with gasoline, set afire at florida taco bell. police arrest suspect police are searching for a suspect who entered a tallahassee taco bell, doused a woman with gasoline, set her on fire, then fled.']\n"
     ]
    }
   ],
   "source": [
    "# check train loader result\n",
    "nid2index = load_pickle(\"/data/v-pezhang/Code/GateFormer/src/data/cache/MIND/MINDdemo_train/news/nid2index.pkl\")\n",
    "uid2index = load_pickle(\"/data/v-pezhang/Code/GateFormer/src/data/cache/MIND/uid2index.pkl\")\n",
    "nindex2id = {v:k for k,v in nid2index.items()}\n",
    "uindex2id = {v:k for k,v in uid2index.items()}\n",
    "\n",
    "# check behaviors.tsv\n",
    "print([uindex2id[i] for i in x[\"user_index\"].tolist()], (x[\"impr_index\"] + 1).tolist())\n",
    "# check news.tsv\n",
    "print([nindex2id[i] for i in x[\"cdd_idx\"][0][:5].tolist()])\n",
    "print(t.batch_decode(x[\"cdd_token_id\"][0][:5], skip_special_tokens=True))\n",
    "\n",
    "print([nindex2id[i] for i in x[\"his_idx\"][0][:5].tolist()])\n",
    "print(t.batch_decode(x[\"his_token_id\"][0][:5], skip_special_tokens=True))"
   ]
  },
  {
   "cell_type": "code",
   "execution_count": 33,
   "metadata": {},
   "outputs": [
    {
     "name": "stdout",
     "output_type": "stream",
     "text": [
      "['U80234', 'U80234'] [1, 1]\n",
      "['N28682', 'N48740', 'N31958', 'N34130', 'N6916']\n",
      "[\"browns apologize to mason rudolph, call myles garrett's actions'unacceptable'players often defend their teammates when commenting on an incident like the one we saw thursday, but the immediate reaction from mayfield and others proves just how far garrett crossed the line.\", \"i've been writing about tiny homes for a year and finally spent 2 nights in a 300 - foot home to see what it's all about i stayed in a tiny house for three days to see what the fuss was all about, and i was surprised by what i saw.\", 'opinion : colin kaepernick is about to get what he deserves : a chance the end may be near for the 3 - year - old saga of colin kaepernick as the quarterback is scheduled to work out for teams on saturday.', \"the kardashians face backlash over'insensitive'family food fight in kuwtk clip kardashian's face backlash over family food fight\", \"then and now : what all your favorite'90s stars are doing today these heartthrobs and fan favorites made the 1990s one of the best decades of the century. here's what they're up to now.\"]\n",
      "['N55189', 'N46039', 'N51741', 'N53234', 'N11276']\n",
      "['\\' wheel of fortune\\'guest delivers hilarious, off the rails introduction we\\'d like to solve the puzzle, pat : blair davis\\'loveless marriage? on monday, \" wheel of fortune \" welcomed as a new contestant trucking business owner blair davis, who offered a biting introduction for himself. when host pat sajak asked the man from cardiff, california, about his family', 'hard rock hotel new orleans collapse : former site engineer weighs in structural engineer walter zehner worked on the project before it became a planned hard rock hotel. a look at what he thinks could have happened :', 'felicity huffman begins prison sentence for college admissions scam the actress will spend 14 days inside a federal lockup outside of san francisco.', 'outer banks storms unearth old shipwreck from\\'graveyard of the atlantic\\'a recent storm on the outer banks unearthed an old shipwreck buried on the beach in hatteras island. a local bar shared photos of the old wooden ship in its final resting place in the area known as \" the graveyard of the atlantic. \" \" a wreck across the street from the wreck! a', \"tiffany's is selling a holiday advent calendar for $ 112, 000 each display contains 24 items including earrings, bracelets and even a sterling silver harmonica.\"]\n"
     ]
    }
   ],
   "source": [
    "# check dev loader result\n",
    "nid2index = load_pickle(\"/data/v-pezhang/Code/GateFormer/src/data/cache/MIND/MINDdemo_dev/news/nid2index.pkl\")\n",
    "uid2index = load_pickle(\"/data/v-pezhang/Code/GateFormer/src/data/cache/MIND/uid2index.pkl\")\n",
    "nindex2id = {v:k for k,v in nid2index.items()}\n",
    "uindex2id = {v:k for k,v in uid2index.items()}\n",
    "\n",
    "# check behaviors.tsv\n",
    "print([uindex2id[i] for i in x2[\"user_index\"].tolist()], (x2[\"impr_index\"] + 1).tolist())\n",
    "# check news.tsv\n",
    "print([nindex2id[i] for i in x2[\"cdd_idx\"][0][:5].tolist()])\n",
    "print(t.batch_decode(x2[\"cdd_token_id\"][0][:5], skip_special_tokens=True))\n",
    "\n",
    "print([nindex2id[i] for i in x2[\"his_idx\"][0][:5].tolist()])\n",
    "print(t.batch_decode(x2[\"his_token_id\"][0][:5], skip_special_tokens=True))"
   ]
  },
  {
   "cell_type": "code",
   "execution_count": null,
   "metadata": {},
   "outputs": [],
   "source": []
  }
 ],
 "metadata": {
  "interpreter": {
   "hash": "a256a4def3bbb1bd6a1d46703c4995443a919758d62b261face579c969ba8076"
  },
  "kernelspec": {
   "display_name": "Python 3.9.7 64-bit ('nn': conda)",
   "language": "python",
   "name": "python3"
  },
  "language_info": {
   "codemirror_mode": {
    "name": "ipython",
    "version": 3
   },
   "file_extension": ".py",
   "mimetype": "text/x-python",
   "name": "python",
   "nbconvert_exporter": "python",
   "pygments_lexer": "ipython3",
   "version": "3.9.7"
  },
  "orig_nbformat": 4
 },
 "nbformat": 4,
 "nbformat_minor": 2
}
